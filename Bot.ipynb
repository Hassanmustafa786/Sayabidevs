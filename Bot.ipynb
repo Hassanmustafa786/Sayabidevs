{
 "cells": [
  {
   "cell_type": "code",
   "execution_count": 8,
   "id": "6e9a64cc",
   "metadata": {},
   "outputs": [],
   "source": [
    "import pandas as pd\n",
    "import numpy as np\n",
    "import nltk\n",
    "import random\n",
    "import string\n",
    "\n",
    "import bs4 as bs\n",
    "import re\n",
    "import requests\n",
    "import json"
   ]
  },
  {
   "cell_type": "code",
   "execution_count": 23,
   "id": "750e0bc2",
   "metadata": {},
   "outputs": [],
   "source": [
    "import spacy\n",
    "from spacy.matcher import Matcher\n",
    "\n",
    "# Load the spaCy model\n",
    "nlp = spacy.load(\"en_core_web_sm\")\n",
    "\n",
    "# Initialize the Matcher\n",
    "matcher = Matcher(nlp.vocab)"
   ]
  },
  {
   "cell_type": "code",
   "execution_count": 35,
   "id": "0e1eaacb",
   "metadata": {},
   "outputs": [
    {
     "data": {
      "text/plain": [
       "{'intents': [{'tag': 'greeting',\n",
       "   'patterns': ['Hi', 'How are you', 'Is anyone there?', 'Hello', 'Good day'],\n",
       "   'responses': ['Hello, thanks for visiting',\n",
       "    'Good to see you again',\n",
       "    'Hi there, how can I help?'],\n",
       "   'context_set': ''},\n",
       "  {'tag': 'goodbye',\n",
       "   'patterns': ['Bye', 'See you later', 'Goodbye'],\n",
       "   'responses': ['See you later, thanks for visiting',\n",
       "    'Have a nice day',\n",
       "    'Bye! Come back again soon.']},\n",
       "  {'tag': 'thanks',\n",
       "   'patterns': ['Thanks', 'Thank you', \"That's helpful\"],\n",
       "   'responses': ['Happy to help!', 'Any time!', 'My pleasure']},\n",
       "  {'tag': 'hours',\n",
       "   'patterns': ['What hours are you open?',\n",
       "    'What are your hours?',\n",
       "    'When are you open?'],\n",
       "   'responses': [\"We're open every day 9am-9pm\",\n",
       "    'Our hours are 9am-9pm every day']},\n",
       "  {'tag': 'mopeds',\n",
       "   'patterns': ['Which mopeds do you have?',\n",
       "    'What kinds of mopeds are there?',\n",
       "    'What do you rent?'],\n",
       "   'responses': ['We rent Yamaha, Piaggio and Vespa mopeds',\n",
       "    'We have Piaggio, Vespa and Yamaha mopeds']},\n",
       "  {'tag': 'payments',\n",
       "   'patterns': ['Do you take credit cards?',\n",
       "    'Do you accept Mastercard?',\n",
       "    'Are you cash only?'],\n",
       "   'responses': ['We accept VISA, Mastercard and AMEX',\n",
       "    'We accept most major credit cards']},\n",
       "  {'tag': 'opentoday',\n",
       "   'patterns': ['Are you open today?',\n",
       "    'When do you open today?',\n",
       "    'What are your hours today?'],\n",
       "   'responses': [\"We're open every day from 9am-9pm\",\n",
       "    'Our hours are 9am-9pm every day']},\n",
       "  {'tag': 'rental',\n",
       "   'patterns': ['Can we rent a moped?',\n",
       "    \"I'd like to rent a moped\",\n",
       "    'How does this work?'],\n",
       "   'responses': ['Are you looking to rent today or later this week?'],\n",
       "   'context_set': 'rentalday'},\n",
       "  {'tag': 'today',\n",
       "   'patterns': ['today'],\n",
       "   'responses': ['For rentals today please call 1-800-MYMOPED',\n",
       "    'Same-day rentals please call 1-800-MYMOPED'],\n",
       "   'context_filter': 'rentalday'}]}"
      ]
     },
     "execution_count": 35,
     "metadata": {},
     "output_type": "execute_result"
    }
   ],
   "source": [
    "intents = [\n",
    "        {\"tag\": \"greeting\",\n",
    "         \"patterns\": [\"Hi\", \"How are you\", \"Is anyone there?\", \"Hello\", \"Good day\"],\n",
    "         \"responses\": [\"Hello, thanks for visiting\", \"Good to see you again\", \"Hi there, how can I help?\"],\n",
    "         \"context_set\": \"\"\n",
    "        },\n",
    "        {\"tag\": \"goodbye\",\n",
    "         \"patterns\": [\"Bye\", \"See you later\", \"Goodbye\"],\n",
    "         \"responses\": [\"See you later, thanks for visiting\", \"Have a nice day\", \"Bye! Come back again soon.\"]\n",
    "        },\n",
    "        {\"tag\": \"thanks\",\n",
    "         \"patterns\": [\"Thanks\", \"Thank you\", \"That's helpful\"],\n",
    "         \"responses\": [\"Happy to help!\", \"Any time!\", \"My pleasure\"]\n",
    "        },\n",
    "        {\"tag\": \"hours\",\n",
    "         \"patterns\": [\"What hours are you open?\", \"What are your hours?\", \"When are you open?\" ],\n",
    "         \"responses\": [\"We're open every day 9am-9pm\", \"Our hours are 9am-9pm every day\"]\n",
    "        },\n",
    "        {\"tag\": \"mopeds\",\n",
    "         \"patterns\": [\"Which mopeds do you have?\", \"What kinds of mopeds are there?\", \"What do you rent?\" ],\n",
    "         \"responses\": [\"We rent Yamaha, Piaggio and Vespa mopeds\", \"We have Piaggio, Vespa and Yamaha mopeds\"]\n",
    "        },\n",
    "        {\"tag\": \"payments\",\n",
    "         \"patterns\": [\"Do you take credit cards?\", \"Do you accept Mastercard?\", \"Are you cash only?\" ],\n",
    "         \"responses\": [\"We accept VISA, Mastercard and AMEX\", \"We accept most major credit cards\"]\n",
    "        },\n",
    "        {\"tag\": \"opentoday\",\n",
    "         \"patterns\": [\"Are you open today?\", \"When do you open today?\", \"What are your hours today?\"],\n",
    "         \"responses\": [\"We're open every day from 9am-9pm\", \"Our hours are 9am-9pm every day\"]\n",
    "        },\n",
    "        {\"tag\": \"rental\",\n",
    "         \"patterns\": [\"Can we rent a moped?\", \"I'd like to rent a moped\", \"How does this work?\" ],\n",
    "         \"responses\": [\"Are you looking to rent today or later this week?\"],\n",
    "         \"context_set\": \"rentalday\"\n",
    "        },\n",
    "        {\"tag\": \"today\",\n",
    "         \"patterns\": [\"today\"],\n",
    "         \"responses\": [\"For rentals today please call 1-800-MYMOPED\", \"Same-day rentals please call 1-800-MYMOPED\"],\n",
    "         \"context_filter\": \"rentalday\"\n",
    "        }\n",
    "   ]\n"
   ]
  },
  {
   "cell_type": "code",
   "execution_count": 31,
   "id": "8209eadf",
   "metadata": {},
   "outputs": [],
   "source": [
    "# Define the callback function\n",
    "def on_match(matcher, doc, id, matches):\n",
    "    match_id, start, end = matches[0]\n",
    "    message = doc[start:end].text.lower()\n",
    "    if message in responses:\n",
    "        print(random.choice(responses[message]))\n",
    "    else:\n",
    "        print(\"I'm sorry, I don't understand.\")"
   ]
  },
  {
   "cell_type": "code",
   "execution_count": 32,
   "id": "7d9dfce8",
   "metadata": {},
   "outputs": [
    {
     "ename": "AttributeError",
     "evalue": "'spacy.matcher.matcher.Matcher' object has no attribute 'add_callback'",
     "output_type": "error",
     "traceback": [
      "\u001b[1;31m---------------------------------------------------------------------------\u001b[0m",
      "\u001b[1;31mAttributeError\u001b[0m                            Traceback (most recent call last)",
      "Cell \u001b[1;32mIn[32], line 2\u001b[0m\n\u001b[0;32m      1\u001b[0m \u001b[38;5;66;03m# Register the callback with the matcher\u001b[39;00m\n\u001b[1;32m----> 2\u001b[0m \u001b[43mmatcher\u001b[49m\u001b[38;5;241;43m.\u001b[39;49m\u001b[43madd_callback\u001b[49m(\u001b[38;5;124m\"\u001b[39m\u001b[38;5;124mhow are you\u001b[39m\u001b[38;5;124m\"\u001b[39m, on_match)\n\u001b[0;32m      3\u001b[0m matcher\u001b[38;5;241m.\u001b[39madd_callback(\u001b[38;5;124m\"\u001b[39m\u001b[38;5;124mwhat\u001b[39m\u001b[38;5;124m'\u001b[39m\u001b[38;5;124ms your name\u001b[39m\u001b[38;5;124m\"\u001b[39m, on_match)\n\u001b[0;32m      4\u001b[0m matcher\u001b[38;5;241m.\u001b[39madd_callback(\u001b[38;5;124m\"\u001b[39m\u001b[38;5;124mgoodbye\u001b[39m\u001b[38;5;124m\"\u001b[39m, on_match)\n",
      "\u001b[1;31mAttributeError\u001b[0m: 'spacy.matcher.matcher.Matcher' object has no attribute 'add_callback'"
     ]
    }
   ],
   "source": [
    "# Register the callback with the matcher\n",
    "matcher.add_callback(\"how are you\", on_match)\n",
    "matcher.add_callback(\"what's your name\", on_match)\n",
    "matcher.add_callback(\"goodbye\", on_match)"
   ]
  },
  {
   "cell_type": "code",
   "execution_count": null,
   "id": "a7615387",
   "metadata": {},
   "outputs": [],
   "source": [
    "# Define the patterns to match\n",
    "matcher.add(\"how are you\", None, [{\"LOWER\": \"how\"}, {\"LOWER\": \"are\"}, {\"LOWER\": \"you\"}])\n",
    "matcher.add(\"what's your name\", None, [{\"LOWER\": \"what's\"}, {\"LOWER\": \"your\"}, {\"LOWER\": \"name\"}])\n",
    "matcher.add(\"goodbye\", None, [{\"LOWER\": \"goodbye\"}])"
   ]
  },
  {
   "cell_type": "code",
   "execution_count": null,
   "id": "75b06db2",
   "metadata": {},
   "outputs": [],
   "source": [
    "while True:\n",
    "    user_input = input(\"USER: \")\n",
    "    doc = nlp(user_input)\n",
    "    matches = matcher(doc)\n",
    "    if \"goodbye\" in user_input:\n",
    "        break"
   ]
  },
  {
   "cell_type": "code",
   "execution_count": null,
   "id": "909003fa",
   "metadata": {},
   "outputs": [],
   "source": []
  },
  {
   "cell_type": "code",
   "execution_count": 34,
   "id": "01deb17c",
   "metadata": {},
   "outputs": [
    {
     "name": "stdout",
     "output_type": "stream",
     "text": [
      "I'm sorry, I don't understand the intent.\n"
     ]
    }
   ],
   "source": [
    "import spacy\n",
    "from spacy.matcher import Matcher\n",
    "import random\n",
    "\n",
    "# Load the English NLP model\n",
    "nlp = spacy.load(\"en_core_web_sm\")\n",
    "\n",
    "# Create a Matcher object\n",
    "matcher = Matcher(nlp.vocab)\n",
    "\n",
    "# Define your intents and responses\n",
    "intents = {\n",
    "    \"greeting\": {\n",
    "        \"patterns\": [\"Hi\", \"How are you\", \"Is anyone there?\", \"Hello\", \"Good day\"],\n",
    "        \"responses\": [\"Hello, thanks for visiting\", \"Good to see you again\", \"Hi there, how can I help?\"],\n",
    "        \"context_set\": \"\"\n",
    "    },\n",
    "    \"goodbye\": {\n",
    "        \"patterns\": [\"Bye\", \"See you later\", \"Goodbye\"],\n",
    "        \"responses\": [\"See you later, thanks for visiting\", \"Have a nice day\", \"Bye! Come back again soon.\"]\n",
    "    },\n",
    "    # Add other intents here\n",
    "}\n",
    "\n",
    "# Define a custom function to handle responses\n",
    "def handle_response(intent):\n",
    "    return random.choice(intent[\"responses\"])\n",
    "\n",
    "# Add patterns to the Matcher\n",
    "for intent_name, intent_data in intents.items():\n",
    "    patterns = intent_data[\"patterns\"]\n",
    "    for pattern in patterns:\n",
    "        pattern_tokens = [{\"LOWER\": token.lower()} for token in pattern.split()]\n",
    "        matcher.add(intent_name, [pattern_tokens])\n",
    "\n",
    "# Process user input and match patterns\n",
    "user_input = \"Hi there, how are you\"\n",
    "doc = nlp(user_input)\n",
    "matches = matcher(doc)\n",
    "\n",
    "# Check for matches and respond\n",
    "if matches:\n",
    "    intent_name, start, end = matches[0]\n",
    "    if intent_name in intents:\n",
    "        response = handle_response(intents[intent_name])\n",
    "        print(response)\n",
    "    else:\n",
    "        print(\"I'm sorry, I don't understand the intent.\")\n",
    "else:\n",
    "    print(\"I'm sorry, I don't understand.\")\n"
   ]
  },
  {
   "cell_type": "code",
   "execution_count": 38,
   "id": "35849226",
   "metadata": {},
   "outputs": [
    {
     "name": "stdout",
     "output_type": "stream",
     "text": [
      "USER: hello\n",
      "USER: greeting\n",
      "USER: goodbye\n"
     ]
    }
   ],
   "source": [
    "while True:\n",
    "    user_input = input(\"USER: \")\n",
    "    doc = nlp(user_input)\n",
    "    matches = matcher(doc)\n",
    "    if \"goodbye\" in user_input:\n",
    "        break"
   ]
  },
  {
   "cell_type": "code",
   "execution_count": null,
   "id": "0e2cba84",
   "metadata": {},
   "outputs": [],
   "source": []
  },
  {
   "cell_type": "code",
   "execution_count": null,
   "id": "841c084d",
   "metadata": {},
   "outputs": [],
   "source": []
  },
  {
   "cell_type": "code",
   "execution_count": null,
   "id": "6fb01d77",
   "metadata": {},
   "outputs": [],
   "source": []
  }
 ],
 "metadata": {
  "kernelspec": {
   "display_name": "Python 3 (ipykernel)",
   "language": "python",
   "name": "python3"
  },
  "language_info": {
   "codemirror_mode": {
    "name": "ipython",
    "version": 3
   },
   "file_extension": ".py",
   "mimetype": "text/x-python",
   "name": "python",
   "nbconvert_exporter": "python",
   "pygments_lexer": "ipython3",
   "version": "3.10.9"
  }
 },
 "nbformat": 4,
 "nbformat_minor": 5
}
