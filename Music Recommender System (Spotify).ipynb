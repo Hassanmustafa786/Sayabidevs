{
 "cells": [
  {
   "cell_type": "code",
   "execution_count": null,
   "id": "49972bea",
   "metadata": {},
   "outputs": [],
   "source": [
    "import numpy as np\n",
    "import pandas as pd\n",
    "import matplotlib.pyplot as plt\n",
    "import seaborn as sns\n",
    "import plotly.express as px\n",
    "import spotipy\n",
    "import warnings\n",
    "warnings.filterwarnings(\"ignore\")\n",
    "%matplotlib inline"
   ]
  },
  {
   "cell_type": "code",
   "execution_count": null,
   "id": "05e38440",
   "metadata": {},
   "outputs": [],
   "source": [
    "data = pd.read_csv(\"data.csv\")"
   ]
  },
  {
   "cell_type": "code",
   "execution_count": null,
   "id": "f60d866a",
   "metadata": {},
   "outputs": [],
   "source": [
    "df_data = pd.DataFrame(data)"
   ]
  },
  {
   "cell_type": "code",
   "execution_count": null,
   "id": "fe866f9d",
   "metadata": {},
   "outputs": [],
   "source": [
    "df_data.head()"
   ]
  },
  {
   "cell_type": "code",
   "execution_count": null,
   "id": "e1d613fa",
   "metadata": {},
   "outputs": [],
   "source": [
    "print(df_data.columns)"
   ]
  },
  {
   "cell_type": "code",
   "execution_count": null,
   "id": "c64971e3",
   "metadata": {},
   "outputs": [],
   "source": [
    "print(\"df_data:\",df_data.shape)"
   ]
  },
  {
   "cell_type": "code",
   "execution_count": null,
   "id": "25f69431",
   "metadata": {},
   "outputs": [],
   "source": [
    "print(df_data.info())"
   ]
  },
  {
   "cell_type": "code",
   "execution_count": null,
   "id": "b3f9321a",
   "metadata": {},
   "outputs": [],
   "source": [
    "print(df_data.describe())"
   ]
  },
  {
   "cell_type": "code",
   "execution_count": null,
   "id": "44d355de",
   "metadata": {},
   "outputs": [],
   "source": [
    "df = df_data.drop(columns=['id','name','artists','release_date'])\n",
    "df.fillna(0)\n",
    "df.corr()"
   ]
  },
  {
   "cell_type": "code",
   "execution_count": null,
   "id": "c4f72181",
   "metadata": {},
   "outputs": [],
   "source": [
    "print(df.shape)\n",
    "df.isnull().sum()"
   ]
  },
  {
   "cell_type": "code",
   "execution_count": null,
   "id": "3b526511",
   "metadata": {},
   "outputs": [],
   "source": [
    "plt.figure(figsize=(5,3))\n",
    "sns.set(font_scale=1)\n",
    "\n",
    "sns.heatmap(df.isnull(), cbar=False, cmap='viridis')\n",
    "\n",
    "plt.show()"
   ]
  },
  {
   "cell_type": "code",
   "execution_count": null,
   "id": "d822db55",
   "metadata": {},
   "outputs": [],
   "source": [
    "df_data.isnull().sum()"
   ]
  },
  {
   "cell_type": "code",
   "execution_count": null,
   "id": "20b99079",
   "metadata": {},
   "outputs": [],
   "source": [
    "plt.figure(figsize=(5,3))\n",
    "sns.set(font_scale=1)\n",
    "\n",
    "sns.heatmap(df_data.isnull(), cbar=False, cmap='magma')\n",
    "\n",
    "plt.show()"
   ]
  },
  {
   "cell_type": "code",
   "execution_count": null,
   "id": "c738a6a7",
   "metadata": {
    "scrolled": true
   },
   "outputs": [],
   "source": [
    "#Scale down the dataset\n",
    "from sklearn.preprocessing import MinMaxScaler\n",
    "\n",
    "datatypes = ['int16','int32','int64','float16','float32','float64']\n",
    "normalization = data.select_dtypes(include=datatypes)\n",
    "for col in normalization.columns:\n",
    "    MinMaxScaler(col)"
   ]
  },
  {
   "cell_type": "code",
   "execution_count": null,
   "id": "25f49e78",
   "metadata": {},
   "outputs": [],
   "source": [
    "from sklearn.cluster import KMeans\n",
    "kmeans = KMeans(n_clusters=10)\n",
    "features = kmeans.fit_predict(normalization)\n",
    "data['features'] = features\n",
    "MinMaxScaler(data['features'])"
   ]
  },
  {
   "cell_type": "code",
   "execution_count": null,
   "id": "42433493",
   "metadata": {},
   "outputs": [],
   "source": [
    "from tqdm import tqdm\n",
    "\n",
    "class music_recommendation():\n",
    "    def __init__(self, dataset):\n",
    "        self.dataset = dataset\n",
    "    \n",
    "    def recommend(self, song_name, amount=1):\n",
    "        distance = []\n",
    "        song = self.dataset[self.dataset.name.str.lower() == song_name.lower()].head(1).values[0]\n",
    "        rec = self.dataset[self.dataset.name.str.lower() != song_name.lower()]\n",
    "        for songs in tqdm(rec.values):\n",
    "            d = 0\n",
    "            for col in np.arange(len(rec.columns)):\n",
    "                if not col in [1,6,12,14,18]:\n",
    "                    try:\n",
    "                        d = d + np.absolute(float(song[col]) - float(songs[col]))\n",
    "                    except ValueError:\n",
    "                        # Handle non-numeric values here\n",
    "                        d = d + 0  # set distance to zero for non-numeric values\n",
    "            distance.append(d)\n",
    "        rec['distance'] = distance\n",
    "        rec = rec.sort_values('distance')\n",
    "        columns = ['artists', 'name']\n",
    "        return rec[columns][:amount]\n"
   ]
  },
  {
   "cell_type": "code",
   "execution_count": null,
   "id": "3557f965",
   "metadata": {
    "scrolled": true
   },
   "outputs": [],
   "source": [
    "recommendation = music_recommendation(data)\n",
    "recommendation.recommend(\"Lovers Rock\", 5)"
   ]
  },
  {
   "cell_type": "code",
   "execution_count": null,
   "id": "b7adfa61",
   "metadata": {},
   "outputs": [],
   "source": [
    "recommendation.recommend(\"Danny Boy\", 10)"
   ]
  },
  {
   "cell_type": "code",
   "execution_count": null,
   "id": "dc3bb894",
   "metadata": {},
   "outputs": [],
   "source": [
    "recommendation.recommend(\"When Irish Eyes Are Smiling\", 10)"
   ]
  },
  {
   "cell_type": "code",
   "execution_count": null,
   "id": "01a5c9bf",
   "metadata": {},
   "outputs": [],
   "source": [
    "plt.figure(figsize=(2,2))\n",
    "sns.set(font_scale=1)\n",
    "\n",
    "h = ['acousticness', 'danceability', 'energy', 'instrumentalness', 'liveness', 'valence']\n",
    " \n",
    "fig = px.line(df_data, x='year', y=h , color_discrete_sequence=px.colors.qualitative.Dark2)\n",
    "fig.update_layout(template='plotly_white')\n",
    "fig.show()"
   ]
  },
  {
   "cell_type": "code",
   "execution_count": null,
   "id": "c35d8491",
   "metadata": {},
   "outputs": [],
   "source": [
    "plt.figure(figsize=(5,5))\n",
    "sns.set(font_scale=1)\n",
    "\n",
    "ax = sns.histplot(df_data.nlargest(10,['popularity']), x='year', y=['valence','energy','danceability','acousticness','instrumentalness',\n",
    "       'liveness', 'loudness', 'mode','speechiness', 'tempo'], )\n",
    "ax.set_facecolor('none')\n",
    "plt.show()"
   ]
  }
 ],
 "metadata": {
  "kernelspec": {
   "display_name": "Python 3 (ipykernel)",
   "language": "python",
   "name": "python3"
  },
  "language_info": {
   "codemirror_mode": {
    "name": "ipython",
    "version": 3
   },
   "file_extension": ".py",
   "mimetype": "text/x-python",
   "name": "python",
   "nbconvert_exporter": "python",
   "pygments_lexer": "ipython3",
   "version": "3.10.9"
  }
 },
 "nbformat": 4,
 "nbformat_minor": 5
}
